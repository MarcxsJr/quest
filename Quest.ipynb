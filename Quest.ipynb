{
  "nbformat": 4,
  "nbformat_minor": 0,
  "metadata": {
    "colab": {
      "provenance": []
    },
    "kernelspec": {
      "name": "python3",
      "display_name": "Python 3"
    },
    "language_info": {
      "name": "python"
    }
  },
  "cells": [
    {
      "cell_type": "markdown",
      "source": [
        "2) Dado a sequência de Fibonacci, onde se inicia por 0 e 1 e o próximo valor sempre será a soma dos 2 valores anteriores (exemplo: 0, 1, 1, 2, 3, 5, 8, 13, 21, 34...), escreva um programa na linguagem que desejar onde, informado um número, ele calcule a sequência de Fibonacci e retorne uma mensagem avisando se o número informado pertence ou não a sequência."
      ],
      "metadata": {
        "id": "YRqvc87Te68O"
      }
    },
    {
      "cell_type": "code",
      "execution_count": null,
      "metadata": {
        "id": "IoP9hvepe5yu"
      },
      "outputs": [],
      "source": [
        "n1 = int(input(\"Digite um número: \"))\n",
        "n2 = 0\n",
        "n3 = 1\n",
        "while n1 != n2 and n3 < 1000:\n",
        "  fibonacci = int(n2+n3)\n",
        "  n3 = int(fibonacci)\n",
        "  n2 = int(fibonacci-n2)\n",
        "\n",
        "if n2 == n1 or n3 == n1:\n",
        "   print(f\"O valor {n1} está dentro da sequência de Fibonacci!\")\n",
        "   \n",
        "else:\n",
        "   print(f\"O valor {n1} não está dentro da sequência de Fibonacci!\")\n",
        "   \n",
        "\n"
      ]
    },
    {
      "cell_type": "markdown",
      "source": [
        "\n",
        "4) Dado o valor de faturamento mensal de uma distribuidora, detalhado por estado:\n",
        "\n",
        "\n",
        "SP – R$67.836,43\n",
        "\n",
        "RJ – R$36.678,66\n",
        "\n",
        "MG – R$29.229,88\n",
        "\n",
        "ES – R$27.165,48\n",
        "\n",
        "Outros – R$19.849,53\n",
        "\n",
        "\n",
        "Escreva um programa na linguagem que desejar onde calcule o percentual de representação que cada estado teve dentro do valor total mensal da distribuidora."
      ],
      "metadata": {
        "id": "0LUs1p-rloqo"
      }
    },
    {
      "cell_type": "code",
      "source": [
        "SP = float(67836.43)\n",
        "RJ = float(36678.66)\n",
        "MG = float(29229.88)\n",
        "ES = float(27165.48)\n",
        "outros = float(19849.53)\n",
        "valor_total = float(SP+RJ+MG+ES+outros)\n",
        "percSP = float((SP*100)/valor_total)\n",
        "percRJ = float((RJ*100)/valor_total)\n",
        "percMG = float((MG*100)/valor_total)\n",
        "percES = float((ES*100)/valor_total)\n",
        "percOutros = float((outros*100)/valor_total)\n",
        "\n",
        "print(f\"O percentual da filial de São Paulo é: {round(percSP,2)}%\")\n",
        "print(f\"O percentual da filial de Rio de Janeiro é: {round(percRJ,2)}%\")\n",
        "print(f\"O percentual da filial de Mina Gerais é: {round(percMG,2)}%\")\n",
        "print(f\"O percentual da filial de Espirito Santo é: {round(percES,2)}%\")\n",
        "print(f\"O percentual da filial de Outros é: {round(percOutros,2)}%\")"
      ],
      "metadata": {
        "colab": {
          "base_uri": "https://localhost:8080/"
        },
        "id": "q0QgZYlkls_0",
        "outputId": "34b69ef3-4bf2-4701-bb72-6b4d3a50fbb7"
      },
      "execution_count": 18,
      "outputs": [
        {
          "output_type": "stream",
          "name": "stdout",
          "text": [
            "O percentual da filial de São Paulo é: 37.53%\n",
            "O percentual da filial de Rio de Janeiro é: 20.29%\n",
            "O percentual da filial de Mina Gerais é: 16.17%\n",
            "O percentual da filial de Espirito Santo é: 15.03%\n",
            "O percentual da filial de Outros é: 10.98%\n"
          ]
        }
      ]
    },
    {
      "cell_type": "markdown",
      "source": [
        "5) Escreva um programa que inverta os caracteres de um string.\n",
        "\n",
        "\n",
        "IMPORTANTE:\n",
        "\n",
        "a) Essa string pode ser informada através de qualquer entrada de sua preferência ou pode ser previamente definida no código;\n",
        "\n",
        "b) Evite usar funções prontas, como, por exemplo, reverse;"
      ],
      "metadata": {
        "id": "pilJTfZZqnFW"
      }
    },
    {
      "cell_type": "code",
      "source": [
        "txt = input(\"Digite uma palavra: \")[::-1]\n",
        "print(txt)"
      ],
      "metadata": {
        "colab": {
          "base_uri": "https://localhost:8080/"
        },
        "id": "r7eGyY4Jqqxq",
        "outputId": "7e532d20-c6a1-4710-9249-2301b468f547"
      },
      "execution_count": 22,
      "outputs": [
        {
          "output_type": "stream",
          "name": "stdout",
          "text": [
            "Digite uma palavra: marcos\n",
            "socram\n"
          ]
        }
      ]
    }
  ]
}